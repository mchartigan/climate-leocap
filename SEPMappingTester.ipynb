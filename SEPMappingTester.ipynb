{
 "cells": [
  {
   "cell_type": "code",
   "execution_count": 6,
   "id": "1bff5d71",
   "metadata": {},
   "outputs": [],
   "source": [
    "from pyssem.pyssem import Model\n",
    "# from pyssem.pyssem.utils.launch.launch import assign_species_to_population\n",
    "import json\n",
    "import numpy\n",
    "import pickle\n",
    "import os\n",
    "import pandas as pd\n"
   ]
  },
  {
   "cell_type": "code",
   "execution_count": null,
   "id": "4495378c",
   "metadata": {},
   "outputs": [],
   "source": [
    "\n"
   ]
  },
  {
   "cell_type": "code",
   "execution_count": 7,
   "id": "8c091931",
   "metadata": {},
   "outputs": [],
   "source": [
    "def assign_species_to_population(T, species_mapping):\n",
    "    \"\"\"\n",
    "    Applies a list of pandas query strings to assign species classes to the population.\n",
    "    \n",
    "    :param T: pandas.DataFrame representing the population\n",
    "    :param species_mapping: list of assignment strings (e.g., T.loc[...] = ...)\n",
    "    :return: updated DataFrame with 'species_class' assigned\n",
    "    \"\"\"\n",
    "    # Initialize the column\n",
    "    T['species_class'] = \"Unknown\"\n",
    "\n",
    "    # Apply each mapping rule via exec\n",
    "    for rule in species_mapping:\n",
    "        try:\n",
    "            exec(rule)\n",
    "        except Exception as e:\n",
    "            print(f\"Error applying rule: {rule}\\n\\t{e}\")\n",
    "\n",
    "    # Print summary of resulting species_class assignments\n",
    "    print(\"\\nSpecies class distribution:\")\n",
    "    print(T['species_class'].value_counts())\n",
    "\n",
    "    try:\n",
    "        print(f\"\\n{T['species_class'].value_counts()['Unknown']} objects/rows are being removed.\")\n",
    "        T = T[T['species_class'] != \"Unknown\"]\n",
    "    except KeyError:\n",
    "        print(\"No unknown species classes found.\")\n",
    "\n",
    "    return T"
   ]
  },
  {
   "cell_type": "code",
   "execution_count": 18,
   "id": "d7690a9d",
   "metadata": {},
   "outputs": [
    {
     "name": "stdout",
     "output_type": "stream",
     "text": [
      "\n",
      "Species class distribution:\n",
      "species_class\n",
      "Sns        2737445\n",
      "S          2317088\n",
      "Unknown     426392\n",
      "N            54731\n",
      "B            19475\n",
      "Name: count, dtype: int64\n",
      "\n",
      "426392 objects/rows are being removed.\n"
     ]
    }
   ],
   "source": [
    "# Load SEP\n",
    "\n",
    "file_path = \"pyssem/utils/launch/data/ref_scen_SEP3H.csv\"\n",
    "sep = pd.read_csv(file_path)\n",
    "\n",
    "# Rule Set\n",
    "SEP_mapping = [\n",
    "      \"T.loc[(T['phase'] == 2) & (T['obj_type'] == 2) & (T['maneuverable'] == 1), 'species_class'] = 'S'\",\n",
    "      \"T.loc[(T['obj_type'] == 2) & (T['maneuverable'] == 0), 'species_class'] = 'Sns'\",\n",
    "      \"T.loc[(T['obj_type'] >= 3), 'species_class'] = 'N'\",\n",
    "      \"T.loc[(T['obj_type'] == 1), 'species_class'] = 'B'\"\n",
    "    ]\n",
    "\n",
    "test = assign_species_to_population(sep, SEP_mapping)"
   ]
  },
  {
   "cell_type": "code",
   "execution_count": 17,
   "id": "469c39ed",
   "metadata": {},
   "outputs": [
    {
     "name": "stdout",
     "output_type": "stream",
     "text": [
      "['Sns' 'B' 'N' 'S']\n",
      "species_class\n",
      "S      344686\n",
      "Sns    341136\n",
      "N       54722\n",
      "B       13212\n",
      "Name: count, dtype: int64\n"
     ]
    }
   ],
   "source": [
    "# print(test['species_class'][1])\n",
    "print(test['species_class'].unique())\n",
    "\n",
    "print(test['species_class'].value_counts())\n",
    "\n",
    "# print(test['species_class'].value_counts()['Unknown'])"
   ]
  }
 ],
 "metadata": {
  "kernelspec": {
   "display_name": "venv",
   "language": "python",
   "name": "python3"
  },
  "language_info": {
   "codemirror_mode": {
    "name": "ipython",
    "version": 3
   },
   "file_extension": ".py",
   "mimetype": "text/x-python",
   "name": "python",
   "nbconvert_exporter": "python",
   "pygments_lexer": "ipython3",
   "version": "3.13.3"
  }
 },
 "nbformat": 4,
 "nbformat_minor": 5
}
